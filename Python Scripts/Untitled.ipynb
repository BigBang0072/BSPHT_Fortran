{
 "cells": [
  {
   "cell_type": "code",
   "execution_count": 1,
   "metadata": {
    "collapsed": true
   },
   "outputs": [],
   "source": [
    "from scipy import fftpack\n",
    "import numpy as np"
   ]
  },
  {
   "cell_type": "code",
   "execution_count": 8,
   "metadata": {
    "collapsed": false
   },
   "outputs": [
    {
     "name": "stdout",
     "output_type": "stream",
     "text": [
      "[ 0.809017    0.30901691 -1.          0.30901718  0.80901688 -0.80901718\n",
      " -0.30901667  1.        ]\n"
     ]
    }
   ],
   "source": [
    "a=np.array((0.80901700258255005,0.30901691317558289,-1.0000000000000000,\n",
    "           0.30901718139648438,0.80901688337326050,-0.80901718139648438,\n",
    "           -0.30901667475700378,1.0000000000000000))\n",
    "print (a)"
   ]
  },
  {
   "cell_type": "code",
   "execution_count": 16,
   "metadata": {
    "collapsed": false
   },
   "outputs": [
    {
     "name": "stdout",
     "output_type": "stream",
     "text": [
      "[ 0.809017    0.30901691 -1.          0.30901718  0.80901688 -0.80901718\n",
      " -0.30901667  1.        ]\n",
      "[  5.05635627e-02   1.56439812e+00  -3.90625000e+01   4.63718908e+01\n",
      "   3.31747486e+02  -7.40301285e+02  -5.51614078e+02   3.16406250e+03]\n"
     ]
    }
   ],
   "source": [
    "b=np.zeros((8))\n",
    "for i in range(8):\n",
    "    b[i]=a[i]*(i+1.0/2.0)**4\n",
    "print (a)\n",
    "print (b)"
   ]
  },
  {
   "cell_type": "code",
   "execution_count": 10,
   "metadata": {
    "collapsed": false
   },
   "outputs": [
    {
     "data": {
      "text/plain": [
       "array([ 2.23606825,  0.24582673,  2.66133198,  0.37145832,  6.69781161,\n",
       "       -2.33051234, -2.81377289, -0.09804812])"
      ]
     },
     "execution_count": 10,
     "metadata": {},
     "output_type": "execute_result"
    }
   ],
   "source": [
    "fftpack.dct(a)"
   ]
  },
  {
   "cell_type": "code",
   "execution_count": 18,
   "metadata": {
    "collapsed": false
   },
   "outputs": [
    {
     "data": {
      "text/plain": [
       "array([-4425.63795134,  4618.70372599, -5323.35450767,  6535.83607459,\n",
       "       -6889.54770922,  4801.71278123, -1708.59003773,   123.29335835])"
      ]
     },
     "execution_count": 18,
     "metadata": {},
     "output_type": "execute_result"
    }
   ],
   "source": [
    "-fftpack.dct(b)"
   ]
  },
  {
   "cell_type": "code",
   "execution_count": 17,
   "metadata": {
    "collapsed": false
   },
   "outputs": [
    {
     "name": "stdout",
     "output_type": "stream",
     "text": [
      "[-0.10933924  0.26023167 -0.55499373  1.58113759  7.79909316 -1.60362005\n",
      "  1.10220665 -0.9999994 ]\n",
      "[   69.06644519  -322.18605544  1503.93059886 -4280.39545152  6996.02978233\n",
      " -7333.72648576  6107.81272404 -5461.15206607]\n"
     ]
    }
   ],
   "source": [
    "print (fftpack.dst(a))\n",
    "print (fftpack.dst(b))"
   ]
  },
  {
   "cell_type": "code",
   "execution_count": null,
   "metadata": {
    "collapsed": true
   },
   "outputs": [],
   "source": []
  }
 ],
 "metadata": {
  "anaconda-cloud": {},
  "kernelspec": {
   "display_name": "Python [Root]",
   "language": "python",
   "name": "Python [Root]"
  },
  "language_info": {
   "codemirror_mode": {
    "name": "ipython",
    "version": 3
   },
   "file_extension": ".py",
   "mimetype": "text/x-python",
   "name": "python",
   "nbconvert_exporter": "python",
   "pygments_lexer": "ipython3",
   "version": "3.5.2"
  }
 },
 "nbformat": 4,
 "nbformat_minor": 0
}
