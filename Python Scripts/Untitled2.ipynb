{
 "cells": [
  {
   "cell_type": "code",
   "execution_count": 1,
   "metadata": {
    "collapsed": false
   },
   "outputs": [],
   "source": [
    "import numpy as np\n",
    "from scipy import special\n",
    "import numpy as np\n",
    "from math import *"
   ]
  },
  {
   "cell_type": "code",
   "execution_count": 75,
   "metadata": {
    "collapsed": false
   },
   "outputs": [
    {
     "name": "stdout",
     "output_type": "stream",
     "text": [
      "[ 0.99162858  0.92616052  0.80300443  0.63661977]\n",
      "[ 0.07142857  0.21428571  0.35714286  0.5       ]\n",
      "[ 0.5  1.5  2.5  3.5]\n",
      "[ 0.44879895  1.34639685  2.24399475  3.14159265]\n"
     ]
    }
   ],
   "source": [
    "length=4\n",
    "delta_r=1\n",
    "l=0\n",
    "f=(0+(1.0/2.0))\n",
    "signal=np.zeros((length))\n",
    "k_values=np.zeros((length))\n",
    "r_values=np.zeros((length))\n",
    "f_values=np.zeros((length))\n",
    "#signal[0]=-0.041191930379795010\n",
    "#signal[1]=-0.37072738526093069 \n",
    "for i in range(length):\n",
    "    signal[i]=special.spherical_jn(l,2*pi*(f/((length-1.0/2.0)*2*delta_r))*(i+1.0/2.0)*delta_r)\n",
    "    #signal[i]=1.0\n",
    "    f_values[i]=(i+1.0/2.0)/(length-1.0/2.0)/(2*delta_r)\n",
    "    k_values[i]=(2*pi)*(i+1.0/2.0)/(length-1.0/2.0)/(2*delta_r)\n",
    "    r_values[i]=(i+1.0/2.0)*delta_r\n",
    "print (signal)\n",
    "print (f_values)\n",
    "print (r_values)\n",
    "print (k_values)"
   ]
  },
  {
   "cell_type": "code",
   "execution_count": 76,
   "metadata": {
    "collapsed": false
   },
   "outputs": [
    {
     "name": "stdout",
     "output_type": "stream",
     "text": [
      "[[ 0.08877301  0.74620933  1.79717287  2.79259596]\n",
      " [ 0.24873644  1.07830372 -0.44386504 -2.79259596]\n",
      " [ 0.35943457 -0.26631903 -1.24368222  2.79259596]\n",
      " [ 0.39894228 -1.19682684  1.9947114  -2.79259596]]\n"
     ]
    }
   ],
   "source": [
    "transform_matrix=np.zeros((length,length))\n",
    "for i in range(length):\n",
    "    for j in range(length):\n",
    "        transform_matrix[i,j]=(special.spherical_jn(l,k_values[i]*r_values[j])*(r_values[j]**2))*k_values[i]*((2/pi)**(.5))\n",
    "print (transform_matrix)      "
   ]
  },
  {
   "cell_type": "code",
   "execution_count": 77,
   "metadata": {
    "collapsed": false
   },
   "outputs": [
    {
     "name": "stdout",
     "output_type": "stream",
     "text": [
      "[ 4.00009906 -0.8889109   0.8889109  -0.8889109 ]\n"
     ]
    }
   ],
   "source": [
    "transfrom=np.matmul(transform_matrix,signal)\n",
    "print (transfrom)"
   ]
  },
  {
   "cell_type": "code",
   "execution_count": 44,
   "metadata": {
    "collapsed": false
   },
   "outputs": [],
   "source": [
    "def evaluate_values(l,length,k_values,x):\n",
    "    val=0\n",
    "    for i in range(length):\n",
    "        val=val+transfrom[i]*special.spherical_jn(l,k_values[i]*x)\n",
    "    #val=transform[0]*special.spherical_jn(l,k_values[0]*x)+0.15202894*special.spherical_jn(1,0.17349886*x)+0.23509538*special.spherical_jn(1,0.27455867*x)+0.29365031*special.spherical_jn(1,0.35509227*x)\n",
    "    return val"
   ]
  },
  {
   "cell_type": "code",
   "execution_count": 64,
   "metadata": {
    "collapsed": false
   },
   "outputs": [
    {
     "data": {
      "text/plain": [
       "-0.00069096288119267681"
      ]
     },
     "execution_count": 64,
     "metadata": {},
     "output_type": "execute_result"
    }
   ],
   "source": [
    "evaluate_values(l,length,k_values,1.5)"
   ]
  },
  {
   "cell_type": "code",
   "execution_count": null,
   "metadata": {
    "collapsed": true
   },
   "outputs": [],
   "source": []
  }
 ],
 "metadata": {
  "kernelspec": {
   "display_name": "Python [Root]",
   "language": "python",
   "name": "Python [Root]"
  },
  "language_info": {
   "codemirror_mode": {
    "name": "ipython",
    "version": 3
   },
   "file_extension": ".py",
   "mimetype": "text/x-python",
   "name": "python",
   "nbconvert_exporter": "python",
   "pygments_lexer": "ipython3",
   "version": "3.5.2"
  }
 },
 "nbformat": 4,
 "nbformat_minor": 0
}
