{
 "cells": [
  {
   "cell_type": "code",
   "execution_count": 370,
   "metadata": {
    "collapsed": true
   },
   "outputs": [],
   "source": [
    "%matplotlib inline\n",
    "\n",
    "import numpy as np\n",
    "from scipy import special\n",
    "import matplotlib.pyplot as plt\n",
    "from math import *"
   ]
  },
  {
   "cell_type": "code",
   "execution_count": 418,
   "metadata": {
    "collapsed": false
   },
   "outputs": [
    {
     "name": "stdout",
     "output_type": "stream",
     "text": [
      "delta_r =  0.06289308176100629\n",
      "r_vlaues =  [ 0.03144654  0.09433962  0.1572327   0.22012579  0.28301887  0.34591195\n",
      "  0.40880503  0.47169811  0.53459119  0.59748428  0.66037736  0.72327044\n",
      "  0.78616352  0.8490566   0.91194969  0.97484277  1.03773585  1.10062893\n",
      "  1.16352201  1.22641509  1.28930818  1.35220126  1.41509434  1.47798742\n",
      "  1.5408805   1.60377358  1.66666667  1.72955975  1.79245283  1.85534591\n",
      "  1.91823899  1.98113208  2.04402516  2.10691824  2.16981132  2.2327044\n",
      "  2.29559748  2.35849057  2.42138365  2.48427673  2.54716981  2.61006289\n",
      "  2.67295597  2.73584906  2.79874214  2.86163522  2.9245283   2.98742138\n",
      "  3.05031447  3.11320755  3.17610063  3.23899371  3.30188679  3.36477987\n",
      "  3.42767296  3.49056604  3.55345912  3.6163522   3.67924528  3.74213836\n",
      "  3.80503145  3.86792453  3.93081761  3.99371069  4.05660377  4.11949686\n",
      "  4.18238994  4.24528302  4.3081761   4.37106918  4.43396226  4.49685535\n",
      "  4.55974843  4.62264151  4.68553459  4.74842767  4.81132075  4.87421384\n",
      "  4.93710692  5.        ]\n",
      "k_values =  [  0.31415927   0.9424778    1.57079633   2.19911486   2.82743339\n",
      "   3.45575192   4.08407045   4.71238898   5.34070751   5.96902604\n",
      "   6.59734457   7.2256631    7.85398163   8.48230016   9.1106187\n",
      "   9.73893723  10.36725576  10.99557429  11.62389282  12.25221135\n",
      "  12.88052988  13.50884841  14.13716694  14.76548547  15.393804\n",
      "  16.02212253  16.65044106  17.27875959  17.90707813  18.53539666\n",
      "  19.16371519  19.79203372  20.42035225  21.04867078  21.67698931\n",
      "  22.30530784  22.93362637  23.5619449   24.19026343  24.81858196\n",
      "  25.44690049  26.07521902  26.70353756  27.33185609  27.96017462\n",
      "  28.58849315  29.21681168  29.84513021  30.47344874  31.10176727\n",
      "  31.7300858   32.35840433  32.98672286  33.61504139  34.24335992\n",
      "  34.87167845  35.49999699  36.12831552  36.75663405  37.38495258\n",
      "  38.01327111  38.64158964  39.26990817  39.8982267   40.52654523\n",
      "  41.15486376  41.78318229  42.41150082  43.03981935  43.66813788\n",
      "  44.29645642  44.92477495  45.55309348  46.18141201  46.80973054\n",
      "  47.43804907  48.0663676   48.69468613  49.32300466  49.95132319]\n"
     ]
    }
   ],
   "source": [
    "#Radial Parameters  \n",
    "                                                #TIME FOR CHANGE#\n",
    "r_div=80\n",
    "radius=5.0\n",
    "delta_r=radius/(r_div-0.5)\n",
    "\n",
    "#Spherical Parameters\n",
    "lat_div=16\n",
    "bWidth=int(lat_div/2)\n",
    "\n",
    "#data structure defined\n",
    "r_values=np.zeros((r_div))\n",
    "k_values=np.zeros((r_div))\n",
    "theta_values=np.zeros((lat_div))\n",
    "phi_values=np.zeros((lat_div))\n",
    "egf_values=np.zeros((lat_div,lat_div,r_div),dtype=complex)\n",
    "\n",
    "#Filling the data structure\n",
    "for i in range(r_div):\n",
    "    r_values[i]=(i+1.0/2.0)*delta_r\n",
    "    k_values[i]=(2*pi)*(i+1.0/2.0)/(r_div-1.0/2.0)/(2*delta_r)\n",
    "for i in range(lat_div):\n",
    "    theta_values[i]=pi*(2*i+1)/(4*(lat_div/2))\n",
    "    phi_values[i]=2*pi*i/(2*(lat_div/2))\n",
    "    \n",
    "#Printing the stuffs\n",
    "print (\"delta_r = \",delta_r)\n",
    "print (\"r_vlaues = \",r_values)\n",
    "print (\"k_values = \",k_values)\n",
    "#print (\"theta_values = \",theta_values)\n",
    "#print (\"phi_values = \",phi_values)"
   ]
  },
  {
   "cell_type": "code",
   "execution_count": 419,
   "metadata": {
    "collapsed": false,
    "scrolled": true
   },
   "outputs": [],
   "source": [
    "coeff_handle=open(\"spht_file.txt\",\"r\")\n",
    "coeff_matrix=np.zeros((bWidth,lat_div,r_div),dtype=complex)\n",
    "\n",
    "for line in coeff_handle:\n",
    "    part1=line.split(\":\")\n",
    "    index=part1[0].strip().split(\" \")\n",
    "    if(index[0]==\"Writing\"):\n",
    "        break\n",
    "    l=int(index[0])\n",
    "    try:\n",
    "        m=int(index[1])\n",
    "    except:\n",
    "        m=int(index[2])\n",
    "    if(m<0):\n",
    "        m=bWidth+(bWidth+m)\n",
    "    coeffs=part1[1].split(\";\")\n",
    "    for i,coeff in enumerate(coeffs): \n",
    "        coeff=coeff.split(\",\")\n",
    "        coeff_matrix[l,m,i]=float(coeff[0])+float(coeff[1])*1j\n",
    "        #print (coeff_matrix[l,m,i])\n",
    "#print (coeff_matrix)"
   ]
  },
  {
   "cell_type": "code",
   "execution_count": 420,
   "metadata": {
    "collapsed": false
   },
   "outputs": [],
   "source": [
    "def eigen_function_val(r,theta,phi):\n",
    "    val=0*(1j)\n",
    "    for i in range(lat_div):#This is m variation\n",
    "        if(i<bWidth):\n",
    "            start_idx=i\n",
    "            m=i\n",
    "        elif(i>bWidth):\n",
    "            start_idx=(bWidth-(i-bWidth))\n",
    "            m=-start_idx\n",
    "        else:\n",
    "            continue\n",
    "        iterator_l=np.linspace(start_idx,bWidth-1,(bWidth-1)-start_idx+1)\n",
    "        for j in iterator_l.astype(int):#This is l variation\n",
    "            l=j\n",
    "            #print (l)\n",
    "            for k in range(r_div):#This is k variation\n",
    "                val=val+(coeff_matrix[l,i,k])*special.spherical_jn(l,k_values[k]*r)\\\n",
    "                                           *special.sph_harm(m,l,phi,theta)\\\n",
    "                                           /k_values[k]\n",
    "    return val"
   ]
  },
  {
   "cell_type": "code",
   "execution_count": 421,
   "metadata": {
    "collapsed": false
   },
   "outputs": [],
   "source": [
    "for i in range(r_div):\n",
    "    for j in range(lat_div):\n",
    "        for k in range(lat_div):\n",
    "            egf_values[k,j,i]=eigen_function_val(r_values[i],theta_values[k],phi_values[j])\n",
    "        "
   ]
  },
  {
   "cell_type": "code",
   "execution_count": 422,
   "metadata": {
    "collapsed": false
   },
   "outputs": [
    {
     "name": "stdout",
     "output_type": "stream",
     "text": [
      "[ 160.13878014+0.j  160.07722353+0.j  159.95647510+0.j  159.79359114+0.j\n",
      "  159.58915025+0.j  159.34811428+0.j  159.07177193+0.j  158.76311273+0.j\n",
      "  158.42318253+0.j  158.05415808+0.j  157.65689198+0.j  157.23310652+0.j\n",
      "  156.78351779+0.j  156.30955576+0.j  155.81183790+0.j  155.29159004+0.j\n",
      "  154.74935600+0.j  154.18621104+0.j  153.60264235+0.j  152.99960972+0.j\n",
      "  152.37755577+0.j  151.73734911+0.j  151.07939660+0.j  150.40449320+0.j\n",
      "  149.71301665+0.j  149.00570136+0.j  148.28290109+0.j  147.54529975+0.j\n",
      "  146.79323114+0.j  146.02733659+0.j  145.24793320+0.j  144.45562605+0.j\n",
      "  143.65071820+0.j  142.83378362+0.j  142.00511357+0.j  141.16525517+0.j\n",
      "  140.31448975+0.j  139.45334118+0.j  138.58208242+0.j  137.70121717+0.j\n",
      "  136.81101138+0.j  135.91195118+0.j  135.00429676+0.j  134.08851893+0.j\n",
      "  133.16487316+0.j  132.23381698+0.j  131.29560206+0.j  130.35067440+0.j\n",
      "  129.39928275+0.j  128.44186314+0.j  127.47866220+0.j  126.51010740+0.j\n",
      "  125.53644393+0.j  124.55809200+0.j  123.57529605+0.j  122.58847018+0.j\n",
      "  121.59785869+0.j  120.60387065+0.j  119.60675078+0.j  118.60690416+0.j\n",
      "  117.60457647+0.j  116.60016968+0.j  115.59393102+0.j  114.58626014+0.j\n",
      "  113.57740641+0.j  112.56776788+0.j  111.55759667+0.j  110.54728981+0.j\n",
      "  109.53710295+0.j  108.52743235+0.j  107.51853839+0.j  106.51081609+0.j\n",
      "  105.50453288+0.j  104.50008015+0.j  103.49773816+0.j  102.49788532+0.j\n",
      "  101.50083580+0.j  100.50690592+0.j   99.51660255+0.j   98.52893381+0.j]\n",
      "[ 160.13878014+0.j  160.07722353+0.j  159.95647510+0.j  159.79359114+0.j\n",
      "  159.58915025+0.j  159.34811428+0.j  159.07177193+0.j  158.76311273+0.j\n",
      "  158.42318253+0.j  158.05415808+0.j  157.65689198+0.j  157.23310652+0.j\n",
      "  156.78351779+0.j  156.30955576+0.j  155.81183790+0.j  155.29159004+0.j\n",
      "  154.74935600+0.j  154.18621104+0.j  153.60264235+0.j  152.99960972+0.j\n",
      "  152.37755577+0.j  151.73734911+0.j  151.07939660+0.j  150.40449320+0.j\n",
      "  149.71301665+0.j  149.00570136+0.j  148.28290109+0.j  147.54529975+0.j\n",
      "  146.79323114+0.j  146.02733659+0.j  145.24793320+0.j  144.45562605+0.j\n",
      "  143.65071820+0.j  142.83378362+0.j  142.00511357+0.j  141.16525517+0.j\n",
      "  140.31448975+0.j  139.45334118+0.j  138.58208242+0.j  137.70121717+0.j\n",
      "  136.81101138+0.j  135.91195118+0.j  135.00429676+0.j  134.08851893+0.j\n",
      "  133.16487316+0.j  132.23381698+0.j  131.29560206+0.j  130.35067440+0.j\n",
      "  129.39928275+0.j  128.44186314+0.j  127.47866220+0.j  126.51010740+0.j\n",
      "  125.53644393+0.j  124.55809200+0.j  123.57529605+0.j  122.58847018+0.j\n",
      "  121.59785869+0.j  120.60387065+0.j  119.60675078+0.j  118.60690416+0.j\n",
      "  117.60457647+0.j  116.60016968+0.j  115.59393102+0.j  114.58626014+0.j\n",
      "  113.57740641+0.j  112.56776788+0.j  111.55759667+0.j  110.54728981+0.j\n",
      "  109.53710295+0.j  108.52743235+0.j  107.51853839+0.j  106.51081609+0.j\n",
      "  105.50453288+0.j  104.50008015+0.j  103.49773816+0.j  102.49788532+0.j\n",
      "  101.50083580+0.j  100.50690592+0.j   99.51660255+0.j   98.52893381+0.j]\n"
     ]
    }
   ],
   "source": [
    "print (egf_values[0,0,:])\n",
    "print (egf_values[0,7,:])"
   ]
  },
  {
   "cell_type": "code",
   "execution_count": 423,
   "metadata": {
    "collapsed": false
   },
   "outputs": [
    {
     "name": "stdout",
     "output_type": "stream",
     "text": [
      "[ 160.13968260+0.j  160.08418065+0.j  159.97389412+0.j  159.82501964+0.j\n",
      "  159.63735127+0.j  159.41601665+0.j  159.16152119+0.j  158.87706099+0.j\n",
      "  158.56308174+0.j  158.22193379+0.j  157.85399035+0.j  157.46111756+0.j\n",
      "  157.04363328+0.j  156.60308831+0.j  156.13975931+0.j  155.65497509+0.j\n",
      "  155.14898111+0.j  154.62294138+0.j  154.07707728+0.j  153.51242568+0.j\n",
      "  152.92918897+0.j  152.32830307+0.j  151.70995517+0.j  151.07499916+0.j\n",
      "  150.42360988+0.j  149.75657334+0.j  149.07405430+0.j  148.37678170+0.j\n",
      "  147.66491197+0.j  146.93912555+0.j  146.19957192+0.j  145.44688982+0.j\n",
      "  144.68122297+0.j  143.90317393+0.j  143.11288163+0.j  142.31091699+0.j\n",
      "  141.49741496+0.j  140.67291865+0.j  139.83755973+0.j  138.99185665+0.j\n",
      "  138.13593844+0.j  137.27030163+0.j  136.39507310+0.j  135.51072982+0.j\n",
      "  134.61739700+0.j  133.71553406+0.j  132.80526495+0.j  131.88703331+0.j\n",
      "  130.96096224+0.j  130.02748111+0.j  129.08671252+0.j  128.13907294+0.j\n",
      "  127.18468482+0.j  126.22395289+0.j  125.25699980+0.j  124.28421956+0.j\n",
      "  123.30573536+0.j  122.32193141+0.j  121.33293178+0.j  120.33911161+0.j\n",
      "  119.34059631+0.j  118.33775249+0.j  117.33070738+0.j  116.31981952+0.j\n",
      "  115.30521858+0.j  114.28725511+0.j  113.26606220+0.j  112.24198203+0.j\n",
      "  111.21515262+0.j  110.18590657+0.j  109.15438950+0.j  108.12092138+0.j\n",
      "  107.08566100+0.j  106.04890782+0.j  105.01084765+0.j  103.97173585+0.j\n",
      "  102.93183221+0.j  101.89124267+0.j  100.85061515+0.j   99.80765288+0.j]\n",
      "[ 160.13968260+0.j  160.08418065+0.j  159.97389412+0.j  159.82501964+0.j\n",
      "  159.63735127+0.j  159.41601665+0.j  159.16152119+0.j  158.87706099+0.j\n",
      "  158.56308174+0.j  158.22193379+0.j  157.85399035+0.j  157.46111756+0.j\n",
      "  157.04363328+0.j  156.60308831+0.j  156.13975931+0.j  155.65497509+0.j\n",
      "  155.14898111+0.j  154.62294138+0.j  154.07707728+0.j  153.51242568+0.j\n",
      "  152.92918897+0.j  152.32830307+0.j  151.70995517+0.j  151.07499916+0.j\n",
      "  150.42360988+0.j  149.75657334+0.j  149.07405430+0.j  148.37678170+0.j\n",
      "  147.66491197+0.j  146.93912555+0.j  146.19957192+0.j  145.44688982+0.j\n",
      "  144.68122297+0.j  143.90317393+0.j  143.11288163+0.j  142.31091699+0.j\n",
      "  141.49741496+0.j  140.67291865+0.j  139.83755973+0.j  138.99185665+0.j\n",
      "  138.13593844+0.j  137.27030163+0.j  136.39507310+0.j  135.51072982+0.j\n",
      "  134.61739700+0.j  133.71553406+0.j  132.80526495+0.j  131.88703331+0.j\n",
      "  130.96096224+0.j  130.02748111+0.j  129.08671252+0.j  128.13907294+0.j\n",
      "  127.18468482+0.j  126.22395289+0.j  125.25699980+0.j  124.28421956+0.j\n",
      "  123.30573536+0.j  122.32193141+0.j  121.33293178+0.j  120.33911161+0.j\n",
      "  119.34059631+0.j  118.33775249+0.j  117.33070738+0.j  116.31981952+0.j\n",
      "  115.30521858+0.j  114.28725511+0.j  113.26606220+0.j  112.24198203+0.j\n",
      "  111.21515262+0.j  110.18590657+0.j  109.15438950+0.j  108.12092138+0.j\n",
      "  107.08566100+0.j  106.04890782+0.j  105.01084765+0.j  103.97173585+0.j\n",
      "  102.93183221+0.j  101.89124267+0.j  100.85061515+0.j   99.80765288+0.j]\n"
     ]
    }
   ],
   "source": [
    "print (egf_values[1,0,:])\n",
    "print (egf_values[1,7,:])"
   ]
  },
  {
   "cell_type": "code",
   "execution_count": 424,
   "metadata": {
    "collapsed": false
   },
   "outputs": [],
   "source": [
    "#print (egf_values)"
   ]
  },
  {
   "cell_type": "code",
   "execution_count": 425,
   "metadata": {
    "collapsed": false
   },
   "outputs": [
    {
     "name": "stdout",
     "output_type": "stream",
     "text": [
      "[ 5.          4.93710692  4.87421384  4.81132075  4.74842767  4.68553459\n",
      "  4.62264151  4.55974843  4.49685535  4.43396226  4.37106918  4.3081761\n",
      "  4.24528302  4.18238994  4.11949686  4.05660377  3.99371069  3.93081761\n",
      "  3.86792453  3.80503145  3.74213836  3.67924528  3.6163522   3.55345912\n",
      "  3.49056604  3.42767296  3.36477987  3.30188679  3.23899371  3.17610063\n",
      "  3.11320755  3.05031447  2.98742138  2.9245283   2.86163522  2.79874214\n",
      "  2.73584906  2.67295597  2.61006289  2.54716981  2.48427673  2.42138365\n",
      "  2.35849057  2.29559748  2.2327044   2.16981132  2.10691824  2.04402516\n",
      "  1.98113208  1.91823899  1.85534591  1.79245283  1.72955975  1.66666667\n",
      "  1.60377358  1.5408805   1.47798742  1.41509434  1.35220126  1.28930818\n",
      "  1.22641509  1.16352201  1.10062893  1.03773585  0.97484277  0.91194969\n",
      "  0.8490566   0.78616352  0.72327044  0.66037736  0.59748428  0.53459119\n",
      "  0.47169811  0.40880503  0.34591195  0.28301887  0.22012579  0.1572327\n",
      "  0.09433962  0.03144654]\n"
     ]
    },
    {
     "data": {
      "image/png": "[encoded data removed]",
      "text/plain": [
       "<matplotlib.figure.Figure at 0x1f12a875a90>"
      ]
     },
     "metadata": {},
     "output_type": "display_data"
    }
   ],
   "source": [
    "#Creating the reference Values\n",
    "#ref_values=((3.5)**2/2.0)-((r_values**2)/6.0)\n",
    "ref_values=r_values[::-1]\n",
    "#ref_values=np.ones((r_div))\n",
    "print (ref_values)\n",
    "xt=np.linspace(0,4,9)\n",
    "yt=np.linspace(0,4,9)\n",
    "yref_t=np.linspace(0,7,15)\n",
    "#Plotting the radial variation along theta and phi direction.\n",
    "fig,ax1=plt.subplots()\n",
    "ax2=ax1.twinx()\n",
    "\n",
    "curve1,=ax1.plot(r_values,egf_values[0,0,:].real,color=\"r\",label=\"Theta0\")\n",
    "curve2,=ax2.plot(r_values,ref_values,color=\"b\",label=\"Actual\")\n",
    "\n",
    "plt.title(\"Comparison of nature from actual to ours\")\n",
    "plt.xlabel(\"radial distance\")\n",
    "plt.ylabel(\"Magnitude of PHI\")\n",
    "plt.show()"
   ]
  },
  {
   "cell_type": "code",
   "execution_count": 452,
   "metadata": {
    "collapsed": false
   },
   "outputs": [
    {
     "name": "stdout",
     "output_type": "stream",
     "text": [
      "[ 12.49983519  12.49851667  12.49587965  12.49192411  12.48665005\n",
      "  12.48005749  12.47214641  12.46291681  12.45236871  12.44050209\n",
      "  12.42731696  12.41281331  12.39699115  12.37985048  12.3613913\n",
      "  12.3416136   12.32051738  12.29810266  12.27436942  12.24931767\n",
      "  12.2229474   12.19525863  12.16625133  12.13592553  12.10428121\n",
      "  12.07131838  12.03703704  12.00143718  11.96451881  11.92628192\n",
      "  11.88672653  11.84585262  11.80366019  11.76014926  11.71531981\n",
      "  11.66917184  11.62170537  11.57292037  11.52281687  11.47139486\n",
      "  11.41865433  11.36459528  11.30921773  11.25252166  11.19450707\n",
      "  11.13517398  11.07452237  11.01255225  10.94926361  10.88465646\n",
      "  10.8187308   10.75148662  10.68292393  10.61304273  10.54184302\n",
      "  10.46932479  10.39548805  10.32033279  10.24385902  10.16606674\n",
      "  10.08695595  10.00652664   9.92477882   9.84171249   9.75732764\n",
      "   9.67162428   9.5846024    9.49626201   9.40660311   9.3156257\n",
      "   9.22332977   9.12971533   9.03478238   8.93853091   8.84096093\n",
      "   8.74207244   8.64186543   8.54033991   8.43749588   8.33333333]\n"
     ]
    },
    {
     "data": {
      "image/png": "[encoded data removed]",
      "text/plain": [
       "<matplotlib.figure.Figure at 0x1f12bbd2b70>"
      ]
     },
     "metadata": {},
     "output_type": "display_data"
    }
   ],
   "source": [
    "#Creating the reference Values\n",
    "ref_values=((radius**2)/2.0)-((r_values**2)/6.0)                     #Rho could be multiplid(ltr)\n",
    "#ref_values=r_values[::-1]\n",
    "print (ref_values)\n",
    "xt=np.linspace(0,4,9)\n",
    "yt=np.linspace(0,4,9)\n",
    "yref_t=np.linspace(0,7,15)\n",
    "#Plotting the radial variation along theta and phi direction.\n",
    "fig,ax1=plt.subplots()\n",
    "ax2=ax1.twinx()\n",
    "\n",
    "curve1,=ax1.plot(r_values,egf_values[1,0,:].real,color=\"r\",label=\"Theta4\")\n",
    "curve2,=ax2.plot(r_values,ref_values,color=\"b\",label=\"Actual\")\n",
    "\n",
    "plt.title(\"Comparison of nature from actual to ours\")\n",
    "plt.xlabel(\"radial distance\")\n",
    "plt.ylabel(\"Magnitude of PHI\")\n",
    "plt.show()"
   ]
  },
  {
   "cell_type": "code",
   "execution_count": 440,
   "metadata": {
    "collapsed": false
   },
   "outputs": [
    {
     "data": {
      "image/png": "[encoded data removed]",
      "text/plain": [
       "<matplotlib.figure.Figure at 0x1f12a79c390>"
      ]
     },
     "metadata": {},
     "output_type": "display_data"
    }
   ],
   "source": [
    "xt=np.linspace(0,4,9)\n",
    "yt=np.linspace(0,200,21)\n",
    "#Plotting the radial variation along theta and phi direction.\n",
    "plt.plot(r_values,egf_values[0,0,:].real,\"r\",r_values,egf_values[1,0,:].real,\"b\")\n",
    "plt.xlabel(\"radial distance\")\n",
    "plt.ylabel(\"Magnitude of PHI\")\n",
    "plt.title(\"Radial variation of potential @Theta(0)\")\n",
    "plt.xticks(xt)\n",
    "plt.yticks(yt)\n",
    "plt.legend([\"Theta0\",\"Theta1\"])\n",
    "plt.grid()\n",
    "plt.show()"
   ]
  },
  {
   "cell_type": "code",
   "execution_count": 428,
   "metadata": {
    "collapsed": false
   },
   "outputs": [
    {
     "data": {
      "image/png": "[encoded data removed]",
      "text/plain": [
       "<matplotlib.figure.Figure at 0x1f12a7e3160>"
      ]
     },
     "metadata": {},
     "output_type": "display_data"
    }
   ],
   "source": [
    "xt=np.linspace(0,4,9)\n",
    "yt=np.linspace(0,200,21)\n",
    "#Plotting the radial variation along theta and phi direction.\n",
    "plt.plot(r_values,egf_values[0,0,:].real,color=\"r\",label=\"Theta0\")\n",
    "plt.plot(r_values,egf_values[1,0,:].real,color=\"b\",label=\"Theta1\")\n",
    "plt.plot(r_values,egf_values[3,0,:].real,color=\"r\",label=\"Theta3\")\n",
    "plt.plot(r_values,egf_values[5,0,:].real,color=\"g\",label=\"Theta5\")\n",
    "plt.plot(r_values,egf_values[7,0,:].real,color=\"y\",label=\"Theta7\")\n",
    "plt.xlabel(\"radial distance\")\n",
    "plt.ylabel(\"Magnitude of PHI\")\n",
    "plt.title(\"Radial variation of potential @Theta(0)\")\n",
    "plt.xticks(xt)\n",
    "plt.yticks(yt)\n",
    "plt.legend()\n",
    "plt.grid()\n",
    "plt.show()\n",
    "#Finally after theta7 the valus reverts symmetrically."
   ]
  },
  {
   "cell_type": "code",
   "execution_count": 438,
   "metadata": {
    "collapsed": false
   },
   "outputs": [
    {
     "name": "stdout",
     "output_type": "stream",
     "text": [
      "division= 80\n",
      "delta_r= 0.06289308176100629\n",
      "[ 0.64291625+0.j  0.64292367+0.j  0.64288409+0.j  0.64285153+0.j\n",
      "  0.64280039+0.j  0.64275233+0.j  0.64269217+0.j  0.64263420+0.j\n",
      "  0.64256762+0.j  0.64250309+0.j  0.64243220+0.j  0.64236348+0.j\n",
      "  0.64229002+0.j  0.64221893+0.j  0.64214434+0.j  0.64207234+0.j\n",
      "  0.64199782+0.j  0.64192613+0.j  0.64185273+0.j  0.64178236+0.j\n",
      "  0.64171096+0.j  0.64164281+0.j  0.64157420+0.j  0.64150902+0.j\n",
      "  0.64144389+0.j  0.64138238+0.j  0.64132134+0.j  0.64126409+0.j\n",
      "  0.64120769+0.j  0.64115524+0.j  0.64110399+0.j  0.64105682+0.j\n",
      "  0.64101116+0.j  0.64096974+0.j  0.64093009+0.j  0.64089481+0.j\n",
      "  0.64086156+0.j  0.64083279+0.j  0.64080630+0.j  0.64078441+0.j\n",
      "  0.64076501+0.j  0.64075033+0.j  0.64073834+0.j  0.64073119+0.j\n",
      "  0.64072692+0.j  0.64072759+0.j  0.64073133+0.j  0.64074012+0.j\n",
      "  0.64075216+0.j  0.64076936+0.j  0.64078998+0.j  0.64081588+0.j\n",
      "  0.64084537+0.j  0.64088025+0.j  0.64091890+0.j  0.64096305+0.j\n",
      "  0.64101114+0.j  0.64106487+0.j  0.64112271+0.j  0.64118632+0.j\n",
      "  0.64125423+0.j  0.64132804+0.j  0.64140636+0.j  0.64149072+0.j\n",
      "  0.64157979+0.j  0.64167507+0.j  0.64177530+0.j  0.64188188+0.j\n",
      "  0.64199369+0.j  0.64211202+0.j  0.64223588+0.j  0.64236640+0.j\n",
      "  0.64250286+0.j  0.64264604+0.j  0.64279578+0.j  0.64295204+0.j\n",
      "  0.64311607+0.j  0.64328513+0.j  0.64346742+0.j  0.64361935+0.j]\n"
     ]
    }
   ],
   "source": [
    "a80=egf_values[4,0,:]/ref_values[:]*((2/pi)**(0.5))\n",
    "print (\"division=\",r_div)\n",
    "print (\"delta_r=\",delta_r)\n",
    "print (a80*delta_r)"
   ]
  },
  {
   "cell_type": "code",
   "execution_count": null,
   "metadata": {
    "collapsed": true
   },
   "outputs": [],
   "source": []
  },
  {
   "cell_type": "code",
   "execution_count": null,
   "metadata": {
    "collapsed": true
   },
   "outputs": [],
   "source": []
  },
  {
   "cell_type": "code",
   "execution_count": null,
   "metadata": {
    "collapsed": true
   },
   "outputs": [],
   "source": []
  },
  {
   "cell_type": "code",
   "execution_count": null,
   "metadata": {
    "collapsed": true
   },
   "outputs": [],
   "source": []
  },
  {
   "cell_type": "code",
   "execution_count": null,
   "metadata": {
    "collapsed": true
   },
   "outputs": [],
   "source": []
  },
  {
   "cell_type": "code",
   "execution_count": null,
   "metadata": {
    "collapsed": true
   },
   "outputs": [],
   "source": []
  },
  {
   "cell_type": "code",
   "execution_count": null,
   "metadata": {
    "collapsed": true
   },
   "outputs": [],
   "source": []
  },
  {
   "cell_type": "code",
   "execution_count": null,
   "metadata": {
    "collapsed": true
   },
   "outputs": [],
   "source": []
  },
  {
   "cell_type": "code",
   "execution_count": null,
   "metadata": {
    "collapsed": true
   },
   "outputs": [],
   "source": []
  },
  {
   "cell_type": "code",
   "execution_count": null,
   "metadata": {
    "collapsed": true
   },
   "outputs": [],
   "source": []
  },
  {
   "cell_type": "code",
   "execution_count": null,
   "metadata": {
    "collapsed": true
   },
   "outputs": [],
   "source": []
  },
  {
   "cell_type": "code",
   "execution_count": null,
   "metadata": {
    "collapsed": true
   },
   "outputs": [],
   "source": []
  },
  {
   "cell_type": "code",
   "execution_count": 331,
   "metadata": {
    "collapsed": false
   },
   "outputs": [
    {
     "data": {
      "text/plain": [
       "array([ 0.70616064+0.j,  0.68503164+0.j,  0.67752057+0.j,  0.67907329+0.j,\n",
       "        0.70352591+0.j])"
      ]
     },
     "execution_count": 331,
     "metadata": {},
     "output_type": "execute_result"
    }
   ],
   "source": [
    "#egf_values[0,0,:]/ref_values[:]*((2/pi)**(0.5))  #radius=5.0(const),division=5,delta_r=1.111"
   ]
  },
  {
   "cell_type": "code",
   "execution_count": 348,
   "metadata": {
    "collapsed": false
   },
   "outputs": [
    {
     "name": "stdout",
     "output_type": "stream",
     "text": [
      "[ 0.78462215+0.j  0.76114551+0.j  0.75279988+0.j  0.75452512+0.j\n",
      "  0.78169467+0.j]\n"
     ]
    }
   ],
   "source": [
    "delta_r5=1.11111\n",
    "a5=np.array((0.70616064+0.j,  0.68503164+0.j,  0.67752057+0.j,  0.67907329+0.j,\n",
    "        0.70352591+0.j))\n",
    "print (a5*delta_r5)"
   ]
  },
  {
   "cell_type": "code",
   "execution_count": 349,
   "metadata": {
    "collapsed": false
   },
   "outputs": [
    {
     "name": "stdout",
     "output_type": "stream",
     "text": [
      "[ 0.70036758+0.j  0.69587016+0.j  0.68757949+0.j  0.67965990+0.j\n",
      "  0.67210904+0.j  0.66647561+0.j  0.66306674+0.j  0.66333436+0.j\n",
      "  0.66841799+0.j  0.67955852+0.j]\n"
     ]
    }
   ],
   "source": [
    "#a10=egf_values[0,0,:]/ref_values[:]*((2/pi)**(0.5)) #radius=5.0(const),division=10,delta_r=0.5\n",
    "print (a1*delta_r)"
   ]
  },
  {
   "cell_type": "code",
   "execution_count": 365,
   "metadata": {
    "collapsed": false
   },
   "outputs": [
    {
     "name": "stdout",
     "output_type": "stream",
     "text": [
      "division= 15\n",
      "delta_r= 0.3448275862068966\n",
      "[ 0.67937635+0.j  0.67525119+0.j  0.67078326+0.j  0.66533859+0.j\n",
      "  0.65981934+0.j  0.65420904+0.j  0.64902240+0.j  0.64426921+0.j\n",
      "  0.64035712+0.j  0.63735288+0.j  0.63566298+0.j  0.63546958+0.j\n",
      "  0.63726125+0.j  0.64149983+0.j  0.64844555+0.j]\n"
     ]
    }
   ],
   "source": [
    "#a15=egf_values[0,0,:]/ref_values[:]*((2/pi)**(0.5))\n",
    "print (\"division=\",r_div)\n",
    "print (\"delta_r=\",delta_r)\n",
    "print (a15*delta_r)"
   ]
  },
  {
   "cell_type": "code",
   "execution_count": 386,
   "metadata": {
    "collapsed": false
   },
   "outputs": [
    {
     "name": "stdout",
     "output_type": "stream",
     "text": [
      "division= 25\n",
      "delta_r= 0.20408163265306123\n",
      "[ 0.66104934+0.j  0.65933094+0.j  0.65722600+0.j  0.65453072+0.j\n",
      "  0.65155760+0.j  0.64831426+0.j  0.64497235+0.j  0.64153502+0.j\n",
      "  0.63812246+0.j  0.63473667+0.j  0.63147279+0.j  0.62833467+0.j\n",
      "  0.62540492+0.j  0.62269187+0.j  0.62027339+0.j  0.61816529+0.j\n",
      "  0.61644686+0.j  0.61514545+0.j  0.61434779+0.j  0.61409916+0.j\n",
      "  0.61450049+0.j  0.61562676+0.j  0.61759796+0.j  0.62055568+0.j\n",
      "  0.62449064+0.j]\n"
     ]
    }
   ],
   "source": [
    "#a25=egf_values[0,0,:]/ref_values[:]*((2/pi)**(0.5))\n",
    "print (\"division=\",r_div)\n",
    "print (\"delta_r=\",delta_r)\n",
    "print (a25*delta_r)"
   ]
  },
  {
   "cell_type": "code",
   "execution_count": 400,
   "metadata": {
    "collapsed": false
   },
   "outputs": [
    {
     "name": "stdout",
     "output_type": "stream",
     "text": [
      "division= 40\n",
      "delta_r= 0.12658227848101267\n",
      "[ 0.65089125+0.j  0.65034790+0.j  0.64930798+0.j  0.64802008+0.j\n",
      "  0.64649193+0.j  0.64480742+0.j  0.64297312+0.j  0.64104214+0.j\n",
      "  0.63901861+0.j  0.63694130+0.j  0.63481291+0.j  0.63266402+0.j\n",
      "  0.63049657+0.j  0.62833598+0.j  0.62618387+0.j  0.62406230+0.j\n",
      "  0.62197289+0.j  0.61993548+0.j  0.61795198+0.j  0.61604085+0.j\n",
      "  0.61420456+0.j  0.61246081+0.j  0.61081290+0.j  0.60927836+0.j\n",
      "  0.60786163+0.j  0.60658057+0.j  0.60544114+0.j  0.60446208+0.j\n",
      "  0.60365134+0.j  0.60302914+0.j  0.60260603+0.j  0.60240440+0.j\n",
      "  0.60243830+0.j  0.60273300+0.j  0.60330749+0.j  0.60419052+0.j\n",
      "  0.60540871+0.j  0.60699313+0.j  0.60898888+0.j  0.61136739+0.j]\n"
     ]
    }
   ],
   "source": [
    "#a40=egf_values[0,0,:]/ref_values[:]*((2/pi)**(0.5))\n",
    "print (\"division=\",r_div)\n",
    "print (\"delta_r=\",delta_r)\n",
    "print (a40*delta_r)"
   ]
  },
  {
   "cell_type": "code",
   "execution_count": 415,
   "metadata": {
    "collapsed": false
   },
   "outputs": [
    {
     "name": "stdout",
     "output_type": "stream",
     "text": [
      "division= 80\n",
      "delta_r= 0.06289308176100629\n",
      "[ 0.64288919+0.j  0.64272149+0.j  0.64239776+0.j  0.64197970+0.j\n",
      "  0.64146969+0.j  0.64088880+0.j  0.64023917+0.j  0.63953430+0.j\n",
      "  0.63877568+0.j  0.63797324+0.j  0.63712809+0.j  0.63624803+0.j\n",
      "  0.63533388+0.j  0.63439209+0.j  0.63342327+0.j  0.63243289+0.j\n",
      "  0.63142144+0.j  0.63039364+0.j  0.62934990+0.j  0.62829437+0.j\n",
      "  0.62722738+0.j  0.62615268+0.j  0.62507052+0.j  0.62398429+0.j\n",
      "  0.62289423+0.j  0.62180345+0.j  0.62071215+0.j  0.61962321+0.j\n",
      "  0.61853683+0.j  0.61745569+0.j  0.61638000+0.j  0.61531230+0.j\n",
      "  0.61425277+0.j  0.61320385+0.j  0.61216573+0.j  0.61114076+0.j\n",
      "  0.61012915+0.j  0.60913315+0.j  0.60815302+0.j  0.60719097+0.j\n",
      "  0.60624727+0.j  0.60532410+0.j  0.60442178+0.j  0.60354245+0.j\n",
      "  0.60268652+0.j  0.60185610+0.j  0.60105165+0.j  0.60027532+0.j\n",
      "  0.59952763+0.j  0.59881074+0.j  0.59812529+0.j  0.59747346+0.j\n",
      "  0.59685598+0.j  0.59627510+0.j  0.59573166+0.j  0.59522799+0.j\n",
      "  0.59476504+0.j  0.59434525+0.j  0.59396973+0.j  0.59364101+0.j\n",
      "  0.59336037+0.j  0.59313048+0.j  0.59295282+0.j  0.59283023+0.j\n",
      "  0.59276439+0.j  0.59275835+0.j  0.59281404+0.j  0.59293473+0.j\n",
      "  0.59312266+0.j  0.59338133+0.j  0.59371336+0.j  0.59412254+0.j\n",
      "  0.59461192+0.j  0.59518555+0.j  0.59584714+0.j  0.59660086+0.j\n",
      "  0.59745146+0.j  0.59840262+0.j  0.59946241+0.j  0.60061825+0.j]\n"
     ]
    }
   ],
   "source": [
    "#a80=egf_values[0,0,:]/ref_values[:]*((2/pi)**(0.5)) #lat_division=8 in all above\n",
    "print (\"division=\",r_div)\n",
    "print (\"delta_r=\",delta_r)\n",
    "print (a80*delta_r)"
   ]
  },
  {
   "cell_type": "code",
   "execution_count": 430,
   "metadata": {
    "collapsed": false
   },
   "outputs": [
    {
     "name": "stdout",
     "output_type": "stream",
     "text": [
      "division= 80\n",
      "delta_r= 0.06289308176100629\n",
      "[ 0.64288777+0.j  0.64270844+0.j  0.64235917+0.j  0.64190825+0.j\n",
      "  0.64135777+0.j  0.64072738+0.j  0.64002193+0.j  0.63925310+0.j\n",
      "  0.63842473+0.j  0.63754516+0.j  0.63661743+0.j  0.63564803+0.j\n",
      "  0.63463943+0.j  0.63359693+0.j  0.63252258+0.j  0.63142087+0.j\n",
      "  0.63029352+0.j  0.62914443+0.j  0.62797511+0.j  0.62678899+0.j\n",
      "  0.62558741+0.j  0.62437343+0.j  0.62314827+0.j  0.62191473+0.j\n",
      "  0.62067391+0.j  0.61942841+0.j  0.61817924+0.j  0.61692882+0.j\n",
      "  0.61567813+0.j  0.61442946+0.j  0.61318374+0.j  0.61194314+0.j\n",
      "  0.61070861+0.j  0.60948222+0.j  0.60826492+0.j  0.60705874+0.j\n",
      "  0.60586463+0.j  0.60468458+0.j  0.60351957+0.j  0.60237160+0.j\n",
      "  0.60124166+0.j  0.60013176+0.j  0.59904295+0.j  0.59797727+0.j\n",
      "  0.59693582+0.j  0.59592069+0.j  0.59493307+0.j  0.59397510+0.j\n",
      "  0.59304807+0.j  0.59215419+0.j  0.59129488+0.j  0.59047245+0.j\n",
      "  0.58968845+0.j  0.58894531+0.j  0.58824474+0.j  0.58758931+0.j\n",
      "  0.58698092+0.j  0.58642231+0.j  0.58591557+0.j  0.58546367+0.j\n",
      "  0.58506893+0.j  0.58473456+0.j  0.58446315+0.j  0.58425819+0.j\n",
      "  0.58412258+0.j  0.58406015+0.j  0.58407415+0.j  0.58416879+0.j\n",
      "  0.58434774+0.j  0.58461565+0.j  0.58497668+0.j  0.58543598+0.j\n",
      "  0.58599831+0.j  0.58666937+0.j  0.58745462+0.j  0.58836041+0.j\n",
      "  0.58939311+0.j  0.59055953+0.j  0.59186806+0.j  0.59331860+0.j]\n"
     ]
    }
   ],
   "source": [
    "#a80=egf_values[0,0,:]/ref_values[:]*((2/pi)**(0.5)) #lat_division=16 this one\n",
    "print (\"division=\",r_div)\n",
    "print (\"delta_r=\",delta_r)\n",
    "print (a80*delta_r)"
   ]
  },
  {
   "cell_type": "code",
   "execution_count": 433,
   "metadata": {
    "collapsed": false
   },
   "outputs": [
    {
     "name": "stdout",
     "output_type": "stream",
     "text": [
      "division= 80\n",
      "delta_r= 0.06289308176100629\n",
      "[ 0.64293521+0.j  0.64306289+0.j  0.64321290+0.j  0.64343899+0.j\n",
      "  0.64369428+0.j  0.64400004+0.j  0.64433011+0.j  0.64469818+0.j\n",
      "  0.64508594+0.j  0.64550359+0.j  0.64593702+0.j  0.64639442+0.j\n",
      "  0.64686431+0.j  0.64735355+0.j  0.64785248+0.j  0.64836702+0.j\n",
      "  0.64888882+0.j  0.64942311+0.j  0.64996253+0.j  0.65051178+0.j\n",
      "  0.65106428+0.j  0.65162428+0.j  0.65218584+0.j  0.65275287+0.j\n",
      "  0.65331992+0.j  0.65389061+0.j  0.65445993+0.j  0.65503124+0.j\n",
      "  0.65559989+0.j  0.65616901+0.j  0.65673425+0.j  0.65729858+0.j\n",
      "  0.65785789+0.j  0.65841497+0.j  0.65896596+0.j  0.65951348+0.j\n",
      "  0.66005387+0.j  0.66058961+0.j  0.66111719+0.j  0.66163899+0.j\n",
      "  0.66215164+0.j  0.66265738+0.j  0.66315299+0.j  0.66364059+0.j\n",
      "  0.66411707+0.j  0.66458444+0.j  0.66503967+0.j  0.66548470+0.j\n",
      "  0.66591655+0.j  0.66633707+0.j  0.66674335+0.j  0.66713713+0.j\n",
      "  0.66751557+0.j  0.66788029+0.j  0.66822849+0.j  0.66856171+0.j\n",
      "  0.66887717+0.j  0.66917630+0.j  0.66945634+0.j  0.66971861+0.j\n",
      "  0.66996038+0.j  0.67018281+0.j  0.67038320+0.j  0.67056256+0.j\n",
      "  0.67071819+0.j  0.67085096+0.j  0.67095816+0.j  0.67104044+0.j\n",
      "  0.67109515+0.j  0.67112267+0.j  0.67112040+0.j  0.67108835+0.j\n",
      "  0.67102413+0.j  0.67092713+0.j  0.67079547+0.j  0.67062731+0.j\n",
      "  0.67042236+0.j  0.67017508+0.j  0.66989385+0.j  0.66952037+0.j]\n"
     ]
    }
   ],
   "source": [
    "#a80=egf_values[7,0,:]/ref_values[:]*((2/pi)**(0.5)) #l=17,theta7 th ratio with the reference\n",
    "print (\"division=\",r_div)\n",
    "print (\"delta_r=\",delta_r)\n",
    "print (a80*delta_r)"
   ]
  },
  {
   "cell_type": "code",
   "execution_count": 436,
   "metadata": {
    "collapsed": false
   },
   "outputs": [
    {
     "name": "stdout",
     "output_type": "stream",
     "text": [
      "division= 80\n",
      "delta_r= 0.06289308176100629\n",
      "[ 0.64290681+0.j  0.64285336+0.j  0.64271572+0.j  0.64254992+0.j\n",
      "  0.64234024+0.j  0.64210839+0.j  0.64184494+0.j  0.64156416+0.j\n",
      "  0.64125930+0.j  0.64094099+0.j  0.64060394+0.j  0.64025660+0.j\n",
      "  0.63989461+0.j  0.63952498+0.j  0.63914397+0.j  0.63875759+0.j\n",
      "  0.63836255+0.j  0.63796409+0.j  0.63755931+0.j  0.63715283+0.j\n",
      "  0.63674204+0.j  0.63633110+0.j  0.63591761+0.j  0.63550538+0.j\n",
      "  0.63509218+0.j  0.63468151+0.j  0.63427132+0.j  0.63386484+0.j\n",
      "  0.63346015+0.j  0.63306027+0.j  0.63266340+0.j  0.63227238+0.j\n",
      "  0.63188552+0.j  0.63150549+0.j  0.63113070+0.j  0.63076370+0.j\n",
      "  0.63040298+0.j  0.63005097+0.j  0.62970624+0.j  0.62937113+0.j\n",
      "  0.62904427+0.j  0.62872793+0.j  0.62842081+0.j  0.62812509+0.j\n",
      "  0.62783957+0.j  0.62756635+0.j  0.62730429+0.j  0.62705544+0.j\n",
      "  0.62681874+0.j  0.62659620+0.j  0.62638680+0.j  0.62619253+0.j\n",
      "  0.62601245+0.j  0.62584850+0.j  0.62569983+0.j  0.62556835+0.j\n",
      "  0.62545328+0.j  0.62535652+0.j  0.62527737+0.j  0.62521773+0.j\n",
      "  0.62517697+0.j  0.62515700+0.j  0.62515728+0.j  0.62517973+0.j\n",
      "  0.62522391+0.j  0.62529173+0.j  0.62538291+0.j  0.62549935+0.j\n",
      "  0.62564091+0.j  0.62580949+0.j  0.62600516+0.j  0.62622976+0.j\n",
      "  0.62648366+0.j  0.62676853+0.j  0.62708530+0.j  0.62743509+0.j\n",
      "  0.62782012+0.j  0.62823941+0.j  0.62870107+0.j  0.62917060+0.j]\n"
     ]
    }
   ],
   "source": [
    "#a80=egf_values[3,0,:]/ref_values[:]*((2/pi)**(0.5)) #theta3 rd ratio with ref, l=16\n",
    "print (\"division=\",r_div)\n",
    "print (\"delta_r=\",delta_r)\n",
    "print (a80*delta_r)"
   ]
  },
  {
   "cell_type": "code",
   "execution_count": 439,
   "metadata": {
    "collapsed": false
   },
   "outputs": [
    {
     "name": "stdout",
     "output_type": "stream",
     "text": [
      "division= 80\n",
      "delta_r= 0.06289308176100629\n",
      "[ 0.64291625+0.j  0.64292367+0.j  0.64288409+0.j  0.64285153+0.j\n",
      "  0.64280039+0.j  0.64275233+0.j  0.64269217+0.j  0.64263420+0.j\n",
      "  0.64256762+0.j  0.64250309+0.j  0.64243220+0.j  0.64236348+0.j\n",
      "  0.64229002+0.j  0.64221893+0.j  0.64214434+0.j  0.64207234+0.j\n",
      "  0.64199782+0.j  0.64192613+0.j  0.64185273+0.j  0.64178236+0.j\n",
      "  0.64171096+0.j  0.64164281+0.j  0.64157420+0.j  0.64150902+0.j\n",
      "  0.64144389+0.j  0.64138238+0.j  0.64132134+0.j  0.64126409+0.j\n",
      "  0.64120769+0.j  0.64115524+0.j  0.64110399+0.j  0.64105682+0.j\n",
      "  0.64101116+0.j  0.64096974+0.j  0.64093009+0.j  0.64089481+0.j\n",
      "  0.64086156+0.j  0.64083279+0.j  0.64080630+0.j  0.64078441+0.j\n",
      "  0.64076501+0.j  0.64075033+0.j  0.64073834+0.j  0.64073119+0.j\n",
      "  0.64072692+0.j  0.64072759+0.j  0.64073133+0.j  0.64074012+0.j\n",
      "  0.64075216+0.j  0.64076936+0.j  0.64078998+0.j  0.64081588+0.j\n",
      "  0.64084537+0.j  0.64088025+0.j  0.64091890+0.j  0.64096305+0.j\n",
      "  0.64101114+0.j  0.64106487+0.j  0.64112271+0.j  0.64118632+0.j\n",
      "  0.64125423+0.j  0.64132804+0.j  0.64140636+0.j  0.64149072+0.j\n",
      "  0.64157979+0.j  0.64167507+0.j  0.64177530+0.j  0.64188188+0.j\n",
      "  0.64199369+0.j  0.64211202+0.j  0.64223588+0.j  0.64236640+0.j\n",
      "  0.64250286+0.j  0.64264604+0.j  0.64279578+0.j  0.64295204+0.j\n",
      "  0.64311607+0.j  0.64328513+0.j  0.64346742+0.j  0.64361935+0.j]\n"
     ]
    }
   ],
   "source": [
    "a80=egf_values[4,0,:]/ref_values[:]*((2/pi)**(0.5)) #SAME(almost) : l=16,theta4 the ratio with reference.\n",
    "print (\"division=\",r_div)\n",
    "print (\"delta_r=\",delta_r)\n",
    "print (a80*delta_r)"
   ]
  },
  {
   "cell_type": "code",
   "execution_count": null,
   "metadata": {
    "collapsed": true
   },
   "outputs": [],
   "source": []
  },
  {
   "cell_type": "code",
   "execution_count": null,
   "metadata": {
    "collapsed": true
   },
   "outputs": [],
   "source": []
  },
  {
   "cell_type": "code",
   "execution_count": null,
   "metadata": {
    "collapsed": true
   },
   "outputs": [],
   "source": [
    "def eigen_function_val_crude(r,theta,phi):\n",
    "    val=0.0\n",
    "    val=4.7480993*special.spherical_jn(0,0.4487990*r)*special.sph_harm(0,0,phi,theta)/(0.4487990)+\\\n",
    "        1.5470914*special.spherical_jn(0,1.3463969*r)*special.sph_harm(0,0,phi,theta)/(1.3463969)+\\\n",
    "        1.0650167*special.spherical_jn(0,2.2439948*r)*special.sph_harm(0,0,phi,theta)/(2.2439948)+\\\n",
    "        0.6516575*special.spherical_jn(0,3.1415927*r)*special.sph_harm(0,0,phi,theta)/(3.1415927)+\\\n",
    "        (-0.0974957)*special.spherical_jn(2,0.4487990*r)*special.sph_harm(0,2,phi,theta)/(0.4487990)+\\\n",
    "        (-0.2848723)*special.spherical_jn(2,1.3463969*r)*special.sph_harm(0,2,phi,theta)/(1.3463969)+\\\n",
    "        (-0.1139510)*special.spherical_jn(2,2.2439948*r)*special.sph_harm(0,2,phi,theta)/(2.2439948)+\\\n",
    "        (-0.1140448)*special.spherical_jn(2,3.1415927*r)*special.sph_harm(0,2,phi,theta)/(3.1415927)\n",
    "    return val"
   ]
  }
 ],
 "metadata": {
  "kernelspec": {
   "display_name": "Python [Root]",
   "language": "python",
   "name": "Python [Root]"
  },
  "language_info": {
   "codemirror_mode": {
    "name": "ipython",
    "version": 3
   },
   "file_extension": ".py",
   "mimetype": "text/x-python",
   "name": "python",
   "nbconvert_exporter": "python",
   "pygments_lexer": "ipython3",
   "version": "3.5.2"
  }
 },
 "nbformat": 4,
 "nbformat_minor": 0
}
