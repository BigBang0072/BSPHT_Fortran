{
 "cells": [
  {
   "cell_type": "code",
   "execution_count": 2,
   "metadata": {
    "collapsed": true
   },
   "outputs": [],
   "source": [
    "from math import *\n",
    "import numpy as np"
   ]
  },
  {
   "cell_type": "code",
   "execution_count": 3,
   "metadata": {
    "collapsed": false
   },
   "outputs": [
    {
     "name": "stdout",
     "output_type": "stream",
     "text": [
      "[ 0.05933422  0.17349885  0.27455866  0.35509226]\n"
     ]
    }
   ],
   "source": [
    "length=4\n",
    "delta_r=1\n",
    "signal=np.array((5.9334218502044678E-002,0.17349885404109955, 0.27455866336822510, 0.35509225726127625 ))\n",
    "s_t_matrix=np.zeros((length,length))\n",
    "c_t_matrix=np.zeros((length,length))\n",
    "r_values=np.zeros((length))\n",
    "\n",
    "print (signal)"
   ]
  },
  {
   "cell_type": "code",
   "execution_count": 4,
   "metadata": {
    "collapsed": true
   },
   "outputs": [
    {
     "name": "stdout",
     "output_type": "stream",
     "text": [
      "0 0 0.222520933956\n",
      "0 1 0.623489801859\n",
      "0 2 0.900968867902\n",
      "0 3 1.0\n",
      "1 0 0.623489801859\n",
      "1 1 0.900968867902\n",
      "1 2 -0.222520933956\n",
      "1 3 -1.0\n",
      "2 0 0.900968867902\n",
      "2 1 -0.222520933956\n",
      "2 2 -0.623489801859\n",
      "2 3 1.0\n",
      "3 0 1.0\n",
      "3 1 -1.0\n",
      "3 2 1.0\n",
      "3 3 -1.0\n"
     ]
    }
   ],
   "source": [
    "for i in range(length):\n",
    "    for j in range(length):\n",
    "        s_t_matrix[i,j]=sin(pi*(i+1.0/2.0)*(j+1.0/2.0)/(length-1.0/2.0))\n",
    "        print (i,j,s_t_matrix[i,j])"
   ]
  },
  {
   "cell_type": "code",
   "execution_count": 5,
   "metadata": {
    "collapsed": true
   },
   "outputs": [
    {
     "name": "stdout",
     "output_type": "stream",
     "text": [
      "0 0 0.974927912182\n",
      "0 1 0.781831482468\n",
      "0 2 0.433883739118\n",
      "0 3 6.12323399574e-17\n",
      "1 0 0.781831482468\n",
      "1 1 -0.433883739118\n",
      "1 2 -0.974927912182\n",
      "1 3 -1.83697019872e-16\n",
      "2 0 0.433883739118\n",
      "2 1 -0.974927912182\n",
      "2 2 0.781831482468\n",
      "2 3 3.06161699787e-16\n",
      "3 0 6.12323399574e-17\n",
      "3 1 -1.83697019872e-16\n",
      "3 2 3.06161699787e-16\n",
      "3 3 -4.28626379702e-16\n"
     ]
    }
   ],
   "source": [
    "for i in range(length):\n",
    "    for j in range(length):\n",
    "        c_t_matrix[i,j]=cos(pi*(i+1.0/2.0)*(j+1.0/2.0)/(length-1.0/2.0))\n",
    "        print (i,j,c_t_matrix[i,j])"
   ]
  },
  {
   "cell_type": "code",
   "execution_count": 6,
   "metadata": {
    "collapsed": false
   },
   "outputs": [
    {
     "name": "stdout",
     "output_type": "stream",
     "text": [
      "[ 0.5  1.5  2.5  3.5]\n",
      "[ 0.07142857  0.21428571  0.35714286  0.5       ]\n"
     ]
    }
   ],
   "source": [
    "k_values=np.zeros((length))\n",
    "for i in range(length):\n",
    "    r_values[i]=(i+1.0/2.0)*delta_r\n",
    "    k_values[i]=(i+1.0/2.0)/(length-1.0/2.0)/(2*delta_r)\n",
    "print (r_values)\n",
    "#print (r_values**2)\n",
    "#print (r_values**4)\n",
    "#print (r_values**6)\n",
    "#print (r_values**3)\n",
    "#print (r_values**5)\n",
    "#print (r_values**7)\n",
    "print (k_values)"
   ]
  },
  {
   "cell_type": "code",
   "execution_count": 7,
   "metadata": {
    "collapsed": true
   },
   "outputs": [
    {
     "name": "stdout",
     "output_type": "stream",
     "text": [
      "[ 0.05933422  0.17349885  0.27455866  0.35509226]\n",
      "s2 : [ 0.01483355  0.39037242  1.71599165  4.34988015]\n",
      "s3 : [  7.41677731e-03   5.85558632e-01   4.28997912e+00   1.52245805e+01]\n",
      "s4 : [  3.70838866e-03   8.78337949e-01   1.07249478e+01   5.32860319e+01]\n"
     ]
    }
   ],
   "source": [
    "print (signal)\n",
    "s2=r_values**2*signal\n",
    "s3=r_values**3*signal\n",
    "s4=r_values**4*signal\n",
    "print (\"s2 :\",s2)\n",
    "print (\"s3 :\",s3)\n",
    "print (\"s4 :\",s4)"
   ]
  },
  {
   "cell_type": "code",
   "execution_count": 8,
   "metadata": {
    "collapsed": false
   },
   "outputs": [
    {
     "name": "stdout",
     "output_type": "stream",
     "text": [
      "[  1.06420797e+00  -1.83074706e+00   9.67467361e-01  -1.40990442e-15]\n"
     ]
    }
   ],
   "source": [
    "#print (s_t_matrix)\n",
    "#print (s2)\n",
    "#print (np.matmul(s_t_matrix,s2))\n",
    "#print (np.matmul(s_t_matrix,s3))\n",
    "#print (np.matmul(s_t_matrix,s4))\n",
    "#print (np.matmul(c_t_matrix,s2))\n",
    "#print (np.matmul(c_t_matrix,s3))\n",
    "#print (np.matmul(c_t_matrix,s4))\n",
    "dcst=np.zeros((2,length,3))\n",
    "dcst[0,:,0]=np.matmul(s_t_matrix,s2)\n",
    "dcst[0,:,1]=np.matmul(c_t_matrix,s3)\n",
    "dcst[0,:,2]=-np.matmul(s_t_matrix,s4)\n",
    "dcst[1,:,0]=np.matmul(c_t_matrix,s2)\n",
    "dcst[1,:,1]=-np.matmul(s_t_matrix,s3)\n",
    "dcst[1,:,2]=-np.matmul(c_t_matrix,s4)\n",
    "print (dcst[1,:,0])"
   ]
  },
  {
   "cell_type": "code",
   "execution_count": 9,
   "metadata": {
    "collapsed": true
   },
   "outputs": [
    {
     "name": "stdout",
     "output_type": "stream",
     "text": [
      "6.47107777372\n",
      "64.8930259803\n",
      "721.762001382\n",
      "20.1075350549\n",
      "214.63284208\n",
      "2455.1807791\n",
      "[[[    6.47107777    20.10753505]\n",
      "  [   64.89302598   214.63284208]\n",
      "  [  721.76200138  2455.1807791 ]\n",
      "  [    0.             0.        ]]\n",
      "\n",
      " [[    0.             0.        ]\n",
      "  [    0.             0.        ]\n",
      "  [    0.             0.        ]\n",
      "  [    0.             0.        ]]\n",
      "\n",
      " [[    0.             0.        ]\n",
      "  [    0.             0.        ]\n",
      "  [    0.             0.        ]\n",
      "  [    0.             0.        ]]\n",
      "\n",
      " [[    0.             0.        ]\n",
      "  [    0.             0.        ]\n",
      "  [    0.             0.        ]\n",
      "  [    0.             0.        ]]]\n"
     ]
    }
   ],
   "source": [
    "interp=np.zeros((length,4,2))\n",
    "#For interpolation between 0 to ko\n",
    "#Even\n",
    "print (np.sum(r_values**2*signal)*delta_r) #Delta_r is important.\n",
    "print (np.sum(r_values**4*signal)*delta_r)\n",
    "print (np.sum(r_values**6*signal)*delta_r)\n",
    "interp[0,0,0]=np.sum(r_values**2*signal)*delta_r\n",
    "interp[0,1,0]=np.sum(r_values**4*signal)*delta_r\n",
    "interp[0,2,0]=np.sum(r_values**6*signal)*delta_r\n",
    "\n",
    "#Odd\n",
    "print (np.sum(r_values**3*signal)*delta_r) #Delta_r is important.\n",
    "print (np.sum(r_values**5*signal)*delta_r)\n",
    "print (np.sum(r_values**7*signal)*delta_r)\n",
    "interp[0,0,1]=np.sum(r_values**3*signal)*delta_r\n",
    "interp[0,1,1]=np.sum(r_values**5*signal)*delta_r\n",
    "interp[0,2,1]=np.sum(r_values**7*signal)*delta_r\n",
    "print (interp)"
   ]
  },
  {
   "cell_type": "code",
   "execution_count": 10,
   "metadata": {
    "collapsed": false,
    "scrolled": true
   },
   "outputs": [
    {
     "name": "stdout",
     "output_type": "stream",
     "text": [
      "[[[  6.47107777e+00   2.01075351e+01]\n",
      "  [  6.48930260e+01   2.14632842e+02]\n",
      "  [  7.21762001e+02   2.45518078e+03]\n",
      "  [  0.00000000e+00   0.00000000e+00]]\n",
      "\n",
      " [[  1.06420797e+00   6.14262920e+00]\n",
      "  [ -1.94564584e+01   2.32639118e+00]\n",
      "  [ -6.71282572e+02  -1.49816900e+03]\n",
      "  [  1.79927551e+03   7.10907608e+03]]\n",
      "\n",
      " [[ -1.83074706e+00  -4.37076225e+00]\n",
      "  [  1.56469963e+01  -4.43068608e+00]\n",
      "  [  6.07849933e+02   1.06333446e+03]\n",
      "  [ -1.76175634e+03  -5.27855596e+03]]\n",
      "\n",
      " [[  9.67467361e-01   3.20647540e+00]\n",
      "  [ -1.24262055e+01   2.78638130e+00]\n",
      "  [ -3.09790344e+02  -8.94233038e+02]\n",
      "  [  6.18922959e+02   4.40064198e+03]]]\n"
     ]
    }
   ],
   "source": [
    "#For other subsequent interval, ko to k1,k1 to k2,k2 to k3 .....\n",
    "#EVEN\n",
    "for i in range(length-1):\n",
    "    interp[i+1,0,0]=dcst[1,i,0]\n",
    "    interp[i+1,1,0]=dcst[1,i,1]\n",
    "    interp[i+1,2,0]=3*(dcst[1,i+1,0]-dcst[1,i,0])/((k_values[i+1]-k_values[i])**2)-(dcst[1,i+1,1]-dcst[1,i,1])/(k_values[i+1]-k_values[i])\n",
    "    interp[i+1,3,0]=(-2)*(dcst[1,i+1,0]-dcst[1,i,0])/((k_values[i+1]-k_values[i])**3)+(dcst[1,i+1,1]+dcst[1,i,1])/((k_values[i+1]-k_values[i])**2)\n",
    "    \n",
    "#ODD\n",
    "for i in range(length-1):\n",
    "    interp[i+1,0,1]=dcst[0,i,0]\n",
    "    interp[i+1,1,1]=dcst[0,i,1]\n",
    "    interp[i+1,2,1]=3*(dcst[0,i+1,0]-dcst[0,i,0])/((k_values[i+1]-k_values[i])**2)-(dcst[0,i+1,1]-dcst[0,i,1])/((k_values[i+1]-k_values[i]))\n",
    "    interp[i+1,3,1]=(-2)*(dcst[0,i+1,0]-dcst[0,i,0])/((k_values[i+1]-k_values[i])**3)+(dcst[0,i+1,1]+dcst[0,i,1])/((k_values[i+1]-k_values[i])**2)\n",
    "\n",
    "print (interp)"
   ]
  },
  {
   "cell_type": "code",
   "execution_count": 18,
   "metadata": {
    "collapsed": false
   },
   "outputs": [
    {
     "name": "stdout",
     "output_type": "stream",
     "text": [
      "-1.62666873332 103.980983068 -1056.84160866 1799.27550615\n",
      "40.0628677212 -487.551042559 1740.40758217 -1761.75634387\n",
      "-62.3030532932 445.685376113 -972.92208496 618.922958556\n",
      "[[[ 0.45828951  0.00242933]]\n",
      "\n",
      " [[-0.05323361  0.00922459]]\n",
      "\n",
      " [[ 0.25217355 -0.03160377]]\n",
      "\n",
      " [[ 0.02696983 -0.00989243]]]\n"
     ]
    }
   ],
   "source": [
    "l=1\n",
    "n=int(l/2)+1\n",
    "#print (length,n)\n",
    "integ=np.zeros((length,n,2))\n",
    "#print (integ)\n",
    "for i in range(length):\n",
    "    for j in range(n):\n",
    "        if(i==0):\n",
    "            integ[0,j,0]=interp[0,0,0]*(k_values[0]**(2*j+1))/(2*j+1)-interp[0,1,0]*k_values[0]**(2*j+3)/(2*(2*j+3))+interp[0,2,0]*k_values[0]**(2*j+5)/(24*(2*j+5))\n",
    "            integ[0,j,1]=interp[0,0,1]*k_values[0]**(2*j+1+2)/(2*j+1+2)-interp[0,1,1]*k_values[0]**(2*j+1+4)/(6*(2*j+1+4))+interp[0,2,1]*k_values[0]**(2*j+1+6)/(120*(2*j+1+6))\n",
    "        else:\n",
    "            k0=k_values[i-1]\n",
    "            k1=k_values[i]\n",
    "            #EVEN\n",
    "            coef0=interp[i,0,0]-interp[i,1,0]*k0+interp[i,2,0]*k0**2-interp[i,3,0]*k0**3\n",
    "            coef1=interp[i,1,0]-2*interp[i,2,0]*k0+3*interp[i,3,0]*k0**2\n",
    "            coef2=interp[i,2,0]-3*interp[i,3,0]*k0\n",
    "            coef3=interp[i,3,0]\n",
    "            \n",
    "            print (coef0,coef1,coef2,coef3)\n",
    "            integ[i,j,0]=integ[i-1,j,0]+coef0/(2*j+1)*(k1**(2*j+1)-k0**(2*j+1))+coef1*(k1**(2*j+1+1)-k0**(2*j+1+1))/(2*j+1+1)+coef2/(2*j+2+1)*(k1**(2*j+2+1)-k0**(2*j+2+1))+coef3/(2*j+3+1)*(k1**(2*j+3+1)-k0**(2*j+3+1))\n",
    "            \n",
    "            #ODD\n",
    "            coef0=interp[i,0,1]-interp[i,1,1]*k0+interp[i,2,1]*k0**2-interp[i,3,1]*k0**3\n",
    "            coef1=interp[i,1,1]-2*interp[i,2,1]*k0+3*interp[i,3,1]*k0**2\n",
    "            coef2=interp[i,2,1]-3*interp[i,3,1]*k0\n",
    "            coef3=interp[i,3,1]\n",
    "            \n",
    "            integ[i,j,1]=integ[i-1,j,1]+coef0/(2*j+1+1)*(k1**(2*j+1+1)-k0**(2*j+1+1))+coef1*(k1**(2*j+1+1+1)-k0**(2*j+1+1+1))/(2*j+1+1+1)+coef2/(2*j+1+2+1)*(k1**(2*j+1+2+1)-k0**(2*j+1+2+1))+coef3/(2*j+1+3+1)*(k1**(2*j+1+3+1)-k0**(2*j+1+3+1))\n",
    "            \n",
    "print (integ)"
   ]
  },
  {
   "cell_type": "code",
   "execution_count": 15,
   "metadata": {
    "collapsed": false
   },
   "outputs": [
    {
     "data": {
      "text/plain": [
       "0.47614868000000005"
      ]
     },
     "execution_count": 15,
     "metadata": {},
     "output_type": "execute_result"
    }
   ],
   "source": [
    "0.00242933/k_values[0]**2"
   ]
  },
  {
   "cell_type": "code",
   "execution_count": 16,
   "metadata": {
    "collapsed": false
   },
   "outputs": [
    {
     "data": {
      "text/plain": [
       "-0.24777355680000002"
      ]
     },
     "execution_count": 16,
     "metadata": {},
     "output_type": "execute_result"
    }
   ],
   "source": [
    "-0.03160377/k_values[2]**2"
   ]
  },
  {
   "cell_type": "code",
   "execution_count": 17,
   "metadata": {
    "collapsed": false
   },
   "outputs": [
    {
     "data": {
      "text/plain": [
       "0.20089107111111112"
      ]
     },
     "execution_count": 17,
     "metadata": {},
     "output_type": "execute_result"
    }
   ],
   "source": [
    "0.00922459/k_values[1]**2"
   ]
  },
  {
   "cell_type": "code",
   "execution_count": null,
   "metadata": {
    "collapsed": true
   },
   "outputs": [],
   "source": []
  }
 ],
 "metadata": {
  "kernelspec": {
   "display_name": "Python [Root]",
   "language": "python",
   "name": "Python [Root]"
  },
  "language_info": {
   "codemirror_mode": {
    "name": "ipython",
    "version": 3
   },
   "file_extension": ".py",
   "mimetype": "text/x-python",
   "name": "python",
   "nbconvert_exporter": "python",
   "pygments_lexer": "ipython3",
   "version": "3.5.2"
  }
 },
 "nbformat": 4,
 "nbformat_minor": 0
}
